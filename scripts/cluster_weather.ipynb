{
 "metadata": {
  "language_info": {
   "codemirror_mode": {
    "name": "ipython",
    "version": 3
   },
   "file_extension": ".py",
   "mimetype": "text/x-python",
   "name": "python",
   "nbconvert_exporter": "python",
   "pygments_lexer": "ipython3",
   "version": 3
  },
  "orig_nbformat": 2,
  "kernelspec": {
   "name": "python_defaultSpec_1596984428880",
   "display_name": "Python 3.7.3 64-bit ('Applications': virtualenv)"
  }
 },
 "nbformat": 4,
 "nbformat_minor": 2,
 "cells": [
  {
   "cell_type": "code",
   "execution_count": 1,
   "metadata": {
    "tags": []
   },
   "outputs": [
    {
     "output_type": "stream",
     "name": "stdout",
     "text": "hello world\n"
    }
   ],
   "source": [
    "print('hello world')"
   ]
  },
  {
   "cell_type": "markdown",
   "metadata": {},
   "source": [
    "# Cluster station notebook\n",
    "\n",
    "## The challenge\n",
    "Looking only at the weather data (that is, don’t include the latitude/longitude of the\n",
    "weather station) can you use a clustering algorithm to see if these stations can be clustered\n",
    "into groups that have “similar” weather? \n",
    "Note that you will have multiple weather readings for each station. \n",
    "* You could pick the most recent, an average, an extreme, \n",
    "* or you could potentially consider all of the points individually and look for clusters in the individual observations. \n",
    "\n",
    "__You should try to justify your choice__\n"
   ]
  },
  {
   "cell_type": "code",
   "execution_count": null,
   "metadata": {},
   "outputs": [],
   "source": []
  }
 ]
}