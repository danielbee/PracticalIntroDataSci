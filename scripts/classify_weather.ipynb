{
 "metadata": {
  "language_info": {
   "codemirror_mode": {
    "name": "ipython",
    "version": 3
   },
   "file_extension": ".py",
   "mimetype": "text/x-python",
   "name": "python",
   "nbconvert_exporter": "python",
   "pygments_lexer": "ipython3",
   "version": 3
  },
  "orig_nbformat": 2,
  "kernelspec": {
   "name": "python_defaultSpec_1597112035468",
   "display_name": "Python 3.7.3 64-bit ('Applications': virtualenv)"
  }
 },
 "nbformat": 4,
 "nbformat_minor": 2,
 "cells": [
  {
   "cell_type": "code",
   "execution_count": 2,
   "metadata": {
    "tags": []
   },
   "outputs": [
    {
     "output_type": "stream",
     "name": "stdout",
     "text": "hello world\n"
    }
   ],
   "source": [
    "print('hello world')"
   ]
  },
  {
   "cell_type": "markdown",
   "metadata": {},
   "source": [
    "# Cluster station notebook\n",
    "\n",
    "## The challenge\n",
    "Looking only at the weather data (that is, don’t include the latitude/longitude of the\n",
    "weather station) can you use a clustering algorithm to see if these stations can be clustered\n",
    "into groups that have “similar” weather? \n",
    "Note that you will have multiple weather readings for each station. \n",
    "* You could pick the most recent, an average, an extreme, \n",
    "* or you could potentially consider all of the points individually and look for clusters in the individual observations. \n",
    "\n",
    "__You should try to justify your choice__\n"
   ]
  },
  {
   "cell_type": "code",
   "execution_count": 3,
   "metadata": {},
   "outputs": [],
   "source": [
    "import pandas as pd"
   ]
  },
  {
   "cell_type": "code",
   "execution_count": 4,
   "metadata": {},
   "outputs": [
    {
     "output_type": "execute_result",
     "data": {
      "text/plain": "                         af   rain    sun  tmax  tmin\nstation   yyyy   mm                                  \naberporth 1941.0 1.0    NaN   74.7    NaN   NaN   NaN\n                 2.0    NaN   69.1    NaN   NaN   NaN\n                 3.0    NaN   76.2    NaN   NaN   NaN\n                 4.0    NaN   33.7    NaN   NaN   NaN\n                 5.0    NaN   51.3    NaN   NaN   NaN\n                 6.0    NaN   25.7    NaN   NaN   NaN\n                 7.0    NaN   53.9    NaN   NaN   NaN\n                 8.0    NaN   91.8    NaN   NaN   NaN\n                 9.0    NaN   25.5    NaN   NaN   NaN\n                 10.0   NaN  106.2    NaN   NaN   NaN\n                 11.0   NaN   92.3    NaN   NaN   NaN\n                 12.0   NaN   86.5    NaN   NaN   NaN\n          1942.0 1.0    NaN  114.0   58.0   5.8   2.1\n                 2.0    NaN   13.8   80.3   4.2   0.6\n                 3.0    NaN   58.0  117.9   9.7   3.7\n                 4.0    NaN   42.5  200.1  13.1   5.3\n                 5.0    NaN  101.1  215.1  14.0   6.9\n                 6.0    NaN    2.3  269.3  16.2   9.9\n                 7.0    NaN   70.2  185.0  17.4  11.3\n                 8.0    NaN   78.5  141.9  18.7  12.3\n                 9.0    NaN  146.8  129.1  16.4  10.7\n                 10.0   NaN  131.1   82.1  13.1   8.2\n                 11.0   NaN   19.8   62.9   9.2   4.6\n                 12.0   NaN  183.9   31.4   9.6   6.2\n          1943.0 1.0    NaN  176.7   41.4   8.2   3.5\n                 2.0    NaN   65.4   68.6   8.9   4.6\n                 3.0    NaN   21.0  156.2  10.2   4.1\n                 4.0    NaN   39.4  178.3  13.0   6.8\n                 5.0    NaN   83.5  233.3  14.1   7.4\n                 6.0    NaN   58.7  223.8  15.9   9.8\n...                     ...    ...    ...   ...   ...\nyeovilton 2018.0 1.0    6.0   69.2   55.1  10.2   2.8\n                 2.0   15.0   28.4  129.3   7.3   0.1\n                 3.0    9.0  121.4   82.6   9.3   2.1\n                 4.0    0.0   58.4   99.1  14.2   7.2\n                 5.0    0.0   45.4  221.6  19.0   7.4\n                 6.0    0.0    5.6  248.3  22.8  11.6\n                 7.0    0.0   13.8  242.3  25.9  13.5\n                 8.0    0.0   53.8  138.5  22.6  12.8\n                 9.0    0.0   36.4  149.0  19.6   9.4\n                 10.0   4.0   51.8  132.8  15.4   6.2\n                 11.0   4.0  102.6   73.8  12.1   5.3\n                 12.0   2.0   94.2   27.2  11.0   5.3\n          2019.0 1.0   14.0   33.8   53.2   7.8   1.0\n                 2.0   10.0   47.2  111.4  11.8   1.9\n                 3.0    2.0   66.0  110.0  12.3   4.8\n                 4.0    2.0   49.4  155.2  14.8   4.7\n                 5.0    2.0   17.6  197.3  17.3   6.1\n                 6.0    0.0   69.2  141.6  19.4  10.4\n                 7.0    0.0   14.8  221.1  24.0  12.6\n                 8.0    0.0   38.4  176.6  22.6  12.4\n                 9.0    0.0   83.8  155.3  19.9  11.0\n                 10.0   1.0  112.4   69.0  14.9   7.6\n                 11.0   4.0   87.0   45.9  10.4   4.3\n                 12.0   7.0  139.4   56.7  10.3   3.2\n          2020.0 1.0    5.0   55.8   44.0   9.6   4.1\n                 2.0    2.0  117.4   63.1  10.8   4.5\n                 3.0    6.0   43.4  159.2  11.5   3.0\n                 4.0    3.0   39.8  235.0  17.5   5.3\n                 5.0    2.0    3.6  305.6  19.7   6.8\n                 6.0    0.0  103.0  187.6  20.5  11.0\n\n[37770 rows x 5 columns]",
      "text/html": "<div>\n<style scoped>\n    .dataframe tbody tr th:only-of-type {\n        vertical-align: middle;\n    }\n\n    .dataframe tbody tr th {\n        vertical-align: top;\n    }\n\n    .dataframe thead th {\n        text-align: right;\n    }\n</style>\n<table border=\"1\" class=\"dataframe\">\n  <thead>\n    <tr style=\"text-align: right;\">\n      <th></th>\n      <th></th>\n      <th></th>\n      <th>af</th>\n      <th>rain</th>\n      <th>sun</th>\n      <th>tmax</th>\n      <th>tmin</th>\n    </tr>\n    <tr>\n      <th>station</th>\n      <th>yyyy</th>\n      <th>mm</th>\n      <th></th>\n      <th></th>\n      <th></th>\n      <th></th>\n      <th></th>\n    </tr>\n  </thead>\n  <tbody>\n    <tr>\n      <th rowspan=\"30\" valign=\"top\">aberporth</th>\n      <th rowspan=\"12\" valign=\"top\">1941.0</th>\n      <th>1.0</th>\n      <td>NaN</td>\n      <td>74.7</td>\n      <td>NaN</td>\n      <td>NaN</td>\n      <td>NaN</td>\n    </tr>\n    <tr>\n      <th>2.0</th>\n      <td>NaN</td>\n      <td>69.1</td>\n      <td>NaN</td>\n      <td>NaN</td>\n      <td>NaN</td>\n    </tr>\n    <tr>\n      <th>3.0</th>\n      <td>NaN</td>\n      <td>76.2</td>\n      <td>NaN</td>\n      <td>NaN</td>\n      <td>NaN</td>\n    </tr>\n    <tr>\n      <th>4.0</th>\n      <td>NaN</td>\n      <td>33.7</td>\n      <td>NaN</td>\n      <td>NaN</td>\n      <td>NaN</td>\n    </tr>\n    <tr>\n      <th>5.0</th>\n      <td>NaN</td>\n      <td>51.3</td>\n      <td>NaN</td>\n      <td>NaN</td>\n      <td>NaN</td>\n    </tr>\n    <tr>\n      <th>6.0</th>\n      <td>NaN</td>\n      <td>25.7</td>\n      <td>NaN</td>\n      <td>NaN</td>\n      <td>NaN</td>\n    </tr>\n    <tr>\n      <th>7.0</th>\n      <td>NaN</td>\n      <td>53.9</td>\n      <td>NaN</td>\n      <td>NaN</td>\n      <td>NaN</td>\n    </tr>\n    <tr>\n      <th>8.0</th>\n      <td>NaN</td>\n      <td>91.8</td>\n      <td>NaN</td>\n      <td>NaN</td>\n      <td>NaN</td>\n    </tr>\n    <tr>\n      <th>9.0</th>\n      <td>NaN</td>\n      <td>25.5</td>\n      <td>NaN</td>\n      <td>NaN</td>\n      <td>NaN</td>\n    </tr>\n    <tr>\n      <th>10.0</th>\n      <td>NaN</td>\n      <td>106.2</td>\n      <td>NaN</td>\n      <td>NaN</td>\n      <td>NaN</td>\n    </tr>\n    <tr>\n      <th>11.0</th>\n      <td>NaN</td>\n      <td>92.3</td>\n      <td>NaN</td>\n      <td>NaN</td>\n      <td>NaN</td>\n    </tr>\n    <tr>\n      <th>12.0</th>\n      <td>NaN</td>\n      <td>86.5</td>\n      <td>NaN</td>\n      <td>NaN</td>\n      <td>NaN</td>\n    </tr>\n    <tr>\n      <th rowspan=\"12\" valign=\"top\">1942.0</th>\n      <th>1.0</th>\n      <td>NaN</td>\n      <td>114.0</td>\n      <td>58.0</td>\n      <td>5.8</td>\n      <td>2.1</td>\n    </tr>\n    <tr>\n      <th>2.0</th>\n      <td>NaN</td>\n      <td>13.8</td>\n      <td>80.3</td>\n      <td>4.2</td>\n      <td>0.6</td>\n    </tr>\n    <tr>\n      <th>3.0</th>\n      <td>NaN</td>\n      <td>58.0</td>\n      <td>117.9</td>\n      <td>9.7</td>\n      <td>3.7</td>\n    </tr>\n    <tr>\n      <th>4.0</th>\n      <td>NaN</td>\n      <td>42.5</td>\n      <td>200.1</td>\n      <td>13.1</td>\n      <td>5.3</td>\n    </tr>\n    <tr>\n      <th>5.0</th>\n      <td>NaN</td>\n      <td>101.1</td>\n      <td>215.1</td>\n      <td>14.0</td>\n      <td>6.9</td>\n    </tr>\n    <tr>\n      <th>6.0</th>\n      <td>NaN</td>\n      <td>2.3</td>\n      <td>269.3</td>\n      <td>16.2</td>\n      <td>9.9</td>\n    </tr>\n    <tr>\n      <th>7.0</th>\n      <td>NaN</td>\n      <td>70.2</td>\n      <td>185.0</td>\n      <td>17.4</td>\n      <td>11.3</td>\n    </tr>\n    <tr>\n      <th>8.0</th>\n      <td>NaN</td>\n      <td>78.5</td>\n      <td>141.9</td>\n      <td>18.7</td>\n      <td>12.3</td>\n    </tr>\n    <tr>\n      <th>9.0</th>\n      <td>NaN</td>\n      <td>146.8</td>\n      <td>129.1</td>\n      <td>16.4</td>\n      <td>10.7</td>\n    </tr>\n    <tr>\n      <th>10.0</th>\n      <td>NaN</td>\n      <td>131.1</td>\n      <td>82.1</td>\n      <td>13.1</td>\n      <td>8.2</td>\n    </tr>\n    <tr>\n      <th>11.0</th>\n      <td>NaN</td>\n      <td>19.8</td>\n      <td>62.9</td>\n      <td>9.2</td>\n      <td>4.6</td>\n    </tr>\n    <tr>\n      <th>12.0</th>\n      <td>NaN</td>\n      <td>183.9</td>\n      <td>31.4</td>\n      <td>9.6</td>\n      <td>6.2</td>\n    </tr>\n    <tr>\n      <th rowspan=\"6\" valign=\"top\">1943.0</th>\n      <th>1.0</th>\n      <td>NaN</td>\n      <td>176.7</td>\n      <td>41.4</td>\n      <td>8.2</td>\n      <td>3.5</td>\n    </tr>\n    <tr>\n      <th>2.0</th>\n      <td>NaN</td>\n      <td>65.4</td>\n      <td>68.6</td>\n      <td>8.9</td>\n      <td>4.6</td>\n    </tr>\n    <tr>\n      <th>3.0</th>\n      <td>NaN</td>\n      <td>21.0</td>\n      <td>156.2</td>\n      <td>10.2</td>\n      <td>4.1</td>\n    </tr>\n    <tr>\n      <th>4.0</th>\n      <td>NaN</td>\n      <td>39.4</td>\n      <td>178.3</td>\n      <td>13.0</td>\n      <td>6.8</td>\n    </tr>\n    <tr>\n      <th>5.0</th>\n      <td>NaN</td>\n      <td>83.5</td>\n      <td>233.3</td>\n      <td>14.1</td>\n      <td>7.4</td>\n    </tr>\n    <tr>\n      <th>6.0</th>\n      <td>NaN</td>\n      <td>58.7</td>\n      <td>223.8</td>\n      <td>15.9</td>\n      <td>9.8</td>\n    </tr>\n    <tr>\n      <th>...</th>\n      <th>...</th>\n      <th>...</th>\n      <td>...</td>\n      <td>...</td>\n      <td>...</td>\n      <td>...</td>\n      <td>...</td>\n    </tr>\n    <tr>\n      <th rowspan=\"30\" valign=\"top\">yeovilton</th>\n      <th rowspan=\"12\" valign=\"top\">2018.0</th>\n      <th>1.0</th>\n      <td>6.0</td>\n      <td>69.2</td>\n      <td>55.1</td>\n      <td>10.2</td>\n      <td>2.8</td>\n    </tr>\n    <tr>\n      <th>2.0</th>\n      <td>15.0</td>\n      <td>28.4</td>\n      <td>129.3</td>\n      <td>7.3</td>\n      <td>0.1</td>\n    </tr>\n    <tr>\n      <th>3.0</th>\n      <td>9.0</td>\n      <td>121.4</td>\n      <td>82.6</td>\n      <td>9.3</td>\n      <td>2.1</td>\n    </tr>\n    <tr>\n      <th>4.0</th>\n      <td>0.0</td>\n      <td>58.4</td>\n      <td>99.1</td>\n      <td>14.2</td>\n      <td>7.2</td>\n    </tr>\n    <tr>\n      <th>5.0</th>\n      <td>0.0</td>\n      <td>45.4</td>\n      <td>221.6</td>\n      <td>19.0</td>\n      <td>7.4</td>\n    </tr>\n    <tr>\n      <th>6.0</th>\n      <td>0.0</td>\n      <td>5.6</td>\n      <td>248.3</td>\n      <td>22.8</td>\n      <td>11.6</td>\n    </tr>\n    <tr>\n      <th>7.0</th>\n      <td>0.0</td>\n      <td>13.8</td>\n      <td>242.3</td>\n      <td>25.9</td>\n      <td>13.5</td>\n    </tr>\n    <tr>\n      <th>8.0</th>\n      <td>0.0</td>\n      <td>53.8</td>\n      <td>138.5</td>\n      <td>22.6</td>\n      <td>12.8</td>\n    </tr>\n    <tr>\n      <th>9.0</th>\n      <td>0.0</td>\n      <td>36.4</td>\n      <td>149.0</td>\n      <td>19.6</td>\n      <td>9.4</td>\n    </tr>\n    <tr>\n      <th>10.0</th>\n      <td>4.0</td>\n      <td>51.8</td>\n      <td>132.8</td>\n      <td>15.4</td>\n      <td>6.2</td>\n    </tr>\n    <tr>\n      <th>11.0</th>\n      <td>4.0</td>\n      <td>102.6</td>\n      <td>73.8</td>\n      <td>12.1</td>\n      <td>5.3</td>\n    </tr>\n    <tr>\n      <th>12.0</th>\n      <td>2.0</td>\n      <td>94.2</td>\n      <td>27.2</td>\n      <td>11.0</td>\n      <td>5.3</td>\n    </tr>\n    <tr>\n      <th rowspan=\"12\" valign=\"top\">2019.0</th>\n      <th>1.0</th>\n      <td>14.0</td>\n      <td>33.8</td>\n      <td>53.2</td>\n      <td>7.8</td>\n      <td>1.0</td>\n    </tr>\n    <tr>\n      <th>2.0</th>\n      <td>10.0</td>\n      <td>47.2</td>\n      <td>111.4</td>\n      <td>11.8</td>\n      <td>1.9</td>\n    </tr>\n    <tr>\n      <th>3.0</th>\n      <td>2.0</td>\n      <td>66.0</td>\n      <td>110.0</td>\n      <td>12.3</td>\n      <td>4.8</td>\n    </tr>\n    <tr>\n      <th>4.0</th>\n      <td>2.0</td>\n      <td>49.4</td>\n      <td>155.2</td>\n      <td>14.8</td>\n      <td>4.7</td>\n    </tr>\n    <tr>\n      <th>5.0</th>\n      <td>2.0</td>\n      <td>17.6</td>\n      <td>197.3</td>\n      <td>17.3</td>\n      <td>6.1</td>\n    </tr>\n    <tr>\n      <th>6.0</th>\n      <td>0.0</td>\n      <td>69.2</td>\n      <td>141.6</td>\n      <td>19.4</td>\n      <td>10.4</td>\n    </tr>\n    <tr>\n      <th>7.0</th>\n      <td>0.0</td>\n      <td>14.8</td>\n      <td>221.1</td>\n      <td>24.0</td>\n      <td>12.6</td>\n    </tr>\n    <tr>\n      <th>8.0</th>\n      <td>0.0</td>\n      <td>38.4</td>\n      <td>176.6</td>\n      <td>22.6</td>\n      <td>12.4</td>\n    </tr>\n    <tr>\n      <th>9.0</th>\n      <td>0.0</td>\n      <td>83.8</td>\n      <td>155.3</td>\n      <td>19.9</td>\n      <td>11.0</td>\n    </tr>\n    <tr>\n      <th>10.0</th>\n      <td>1.0</td>\n      <td>112.4</td>\n      <td>69.0</td>\n      <td>14.9</td>\n      <td>7.6</td>\n    </tr>\n    <tr>\n      <th>11.0</th>\n      <td>4.0</td>\n      <td>87.0</td>\n      <td>45.9</td>\n      <td>10.4</td>\n      <td>4.3</td>\n    </tr>\n    <tr>\n      <th>12.0</th>\n      <td>7.0</td>\n      <td>139.4</td>\n      <td>56.7</td>\n      <td>10.3</td>\n      <td>3.2</td>\n    </tr>\n    <tr>\n      <th rowspan=\"6\" valign=\"top\">2020.0</th>\n      <th>1.0</th>\n      <td>5.0</td>\n      <td>55.8</td>\n      <td>44.0</td>\n      <td>9.6</td>\n      <td>4.1</td>\n    </tr>\n    <tr>\n      <th>2.0</th>\n      <td>2.0</td>\n      <td>117.4</td>\n      <td>63.1</td>\n      <td>10.8</td>\n      <td>4.5</td>\n    </tr>\n    <tr>\n      <th>3.0</th>\n      <td>6.0</td>\n      <td>43.4</td>\n      <td>159.2</td>\n      <td>11.5</td>\n      <td>3.0</td>\n    </tr>\n    <tr>\n      <th>4.0</th>\n      <td>3.0</td>\n      <td>39.8</td>\n      <td>235.0</td>\n      <td>17.5</td>\n      <td>5.3</td>\n    </tr>\n    <tr>\n      <th>5.0</th>\n      <td>2.0</td>\n      <td>3.6</td>\n      <td>305.6</td>\n      <td>19.7</td>\n      <td>6.8</td>\n    </tr>\n    <tr>\n      <th>6.0</th>\n      <td>0.0</td>\n      <td>103.0</td>\n      <td>187.6</td>\n      <td>20.5</td>\n      <td>11.0</td>\n    </tr>\n  </tbody>\n</table>\n<p>37770 rows × 5 columns</p>\n</div>"
     },
     "metadata": {},
     "execution_count": 4
    }
   ],
   "source": [
    "dataPath = '../data/weather/'\n",
    "stationData = pd.DataFrame.from_csv(dataPath+'stationData.csv',index_col=[0,1,2],parse_dates=False)\n",
    "stationData"
   ]
  },
  {
   "cell_type": "code",
   "execution_count": 4,
   "metadata": {},
   "outputs": [],
   "source": [
    "\n"
   ]
  },
  {
   "cell_type": "code",
   "execution_count": null,
   "metadata": {},
   "outputs": [],
   "source": []
  }
 ]
}