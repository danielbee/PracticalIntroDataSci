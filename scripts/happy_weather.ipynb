{
 "metadata": {
  "language_info": {
   "codemirror_mode": {
    "name": "ipython",
    "version": 3
   },
   "file_extension": ".py",
   "mimetype": "text/x-python",
   "name": "python",
   "nbconvert_exporter": "python",
   "pygments_lexer": "ipython3",
   "version": 3
  },
  "orig_nbformat": 2,
  "kernelspec": {
   "name": "python_defaultSpec_1596984963057",
   "display_name": "Python 3.7.3 64-bit ('Applications': virtualenv)"
  }
 },
 "nbformat": 4,
 "nbformat_minor": 2,
 "cells": [
  {
   "cell_type": "markdown",
   "metadata": {
    "tags": []
   },
   "source": [
    "# The happy weather notebook\n",
    "## The challenge\n",
    "Start to look at how happiness is related to weather.\n",
    "\n",
    "You will need to join the weather station data with the happiness data. \n",
    "* You will only be able to do this in a coarse-grained way, because the places where there are weather stations do not correspond directly to the census areas used in the happiness surveys. \n",
    "    * You could use bands of latitude to do this, \n",
    "    * or you could put a grid over the county and look at which grid cell a weather station or census region falls in. \n",
    "\n",
    "Don’t worry too much about the fact that weather data and census data don’t cover exactly the same time periods, we can assume that to a first approximation the general climate at a given weather stations is fairly constant over time and that happiness also does not change too much from year to year.\n",
    "\n",
    "One way to do this is to __measure correlation__ between these datasets. We have not covered this in any detail on the course, so I am not expecting you to do this. \n",
    "\n",
    "You should adopt the simpler approach of plotting (possibly a subset of) your weather data against (possibly a subset of) the happiness data. \n",
    "\n",
    "Informed by what you see, you should then select one or more weather features and **use linear regression to try to create a model which could potentially predict happiness from the weather data**\n",
    "\n"
   ]
  },
  {
   "cell_type": "code",
   "execution_count": null,
   "metadata": {},
   "outputs": [],
   "source": []
  }
 ]
}